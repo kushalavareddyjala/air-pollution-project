{
 "cells": [
  {
   "cell_type": "code",
   "execution_count": 106,
   "id": "5c1a00d8",
   "metadata": {},
   "outputs": [],
   "source": [
    "import numpy as np\n",
    "from sklearn.ensemble import RandomForestClassifier\n",
    "import lime\n",
    "from lime import lime_tabular\n",
    "import pandas as pd\n",
    "import matplotlib.pyplot as plt\n",
    "import seaborn as sns\n",
    "%matplotlib inline\n",
    "import shap"
   ]
  },
  {
   "cell_type": "code",
   "execution_count": 107,
   "id": "cf745a62",
   "metadata": {},
   "outputs": [
    {
     "data": {
      "text/html": [
       "<div>\n",
       "<style scoped>\n",
       "    .dataframe tbody tr th:only-of-type {\n",
       "        vertical-align: middle;\n",
       "    }\n",
       "\n",
       "    .dataframe tbody tr th {\n",
       "        vertical-align: top;\n",
       "    }\n",
       "\n",
       "    .dataframe thead th {\n",
       "        text-align: right;\n",
       "    }\n",
       "</style>\n",
       "<table border=\"1\" class=\"dataframe\">\n",
       "  <thead>\n",
       "    <tr style=\"text-align: right;\">\n",
       "      <th></th>\n",
       "      <th>timestamp</th>\n",
       "      <th>date (UTC)</th>\n",
       "      <th>NO2 (ppb)</th>\n",
       "      <th>VOC (ppb)</th>\n",
       "      <th>pm 10 (ug/m3)</th>\n",
       "      <th>pm 2.5 (ug/m3)</th>\n",
       "      <th>pm 1 (ug/m3)</th>\n",
       "      <th>class</th>\n",
       "    </tr>\n",
       "  </thead>\n",
       "  <tbody>\n",
       "    <tr>\n",
       "      <th>0</th>\n",
       "      <td>1680841264</td>\n",
       "      <td>07-04-2023 04:21</td>\n",
       "      <td>58</td>\n",
       "      <td>161</td>\n",
       "      <td>42.242280</td>\n",
       "      <td>36.364796</td>\n",
       "      <td>23.0</td>\n",
       "      <td>1</td>\n",
       "    </tr>\n",
       "    <tr>\n",
       "      <th>1</th>\n",
       "      <td>1680841324</td>\n",
       "      <td>07-04-2023 04:22</td>\n",
       "      <td>58</td>\n",
       "      <td>163</td>\n",
       "      <td>44.033030</td>\n",
       "      <td>43.033030</td>\n",
       "      <td>28.0</td>\n",
       "      <td>1</td>\n",
       "    </tr>\n",
       "    <tr>\n",
       "      <th>2</th>\n",
       "      <td>1680841384</td>\n",
       "      <td>07-04-2023 04:23</td>\n",
       "      <td>60</td>\n",
       "      <td>162</td>\n",
       "      <td>40.469963</td>\n",
       "      <td>39.469963</td>\n",
       "      <td>28.0</td>\n",
       "      <td>1</td>\n",
       "    </tr>\n",
       "    <tr>\n",
       "      <th>3</th>\n",
       "      <td>1680841444</td>\n",
       "      <td>07-04-2023 04:24</td>\n",
       "      <td>58</td>\n",
       "      <td>163</td>\n",
       "      <td>34.787033</td>\n",
       "      <td>33.787033</td>\n",
       "      <td>22.0</td>\n",
       "      <td>1</td>\n",
       "    </tr>\n",
       "    <tr>\n",
       "      <th>4</th>\n",
       "      <td>1680841504</td>\n",
       "      <td>07-04-2023 04:25</td>\n",
       "      <td>60</td>\n",
       "      <td>163</td>\n",
       "      <td>45.632010</td>\n",
       "      <td>44.632010</td>\n",
       "      <td>29.0</td>\n",
       "      <td>1</td>\n",
       "    </tr>\n",
       "  </tbody>\n",
       "</table>\n",
       "</div>"
      ],
      "text/plain": [
       "    timestamp        date (UTC)  NO2 (ppb)  VOC (ppb)  pm 10 (ug/m3)  \\\n",
       "0  1680841264  07-04-2023 04:21         58        161      42.242280   \n",
       "1  1680841324  07-04-2023 04:22         58        163      44.033030   \n",
       "2  1680841384  07-04-2023 04:23         60        162      40.469963   \n",
       "3  1680841444  07-04-2023 04:24         58        163      34.787033   \n",
       "4  1680841504  07-04-2023 04:25         60        163      45.632010   \n",
       "\n",
       "   pm 2.5 (ug/m3)  pm 1 (ug/m3)  class  \n",
       "0       36.364796          23.0      1  \n",
       "1       43.033030          28.0      1  \n",
       "2       39.469963          28.0      1  \n",
       "3       33.787033          22.0      1  \n",
       "4       44.632010          29.0      1  "
      ]
     },
     "execution_count": 107,
     "metadata": {},
     "output_type": "execute_result"
    }
   ],
   "source": [
    "dataset=pd.read_csv('merge.csv')\n",
    "dataset.head()"
   ]
  },
  {
   "cell_type": "code",
   "execution_count": 108,
   "id": "06513866",
   "metadata": {},
   "outputs": [],
   "source": [
    "dataset = dataset.drop(dataset.columns[[0, 1]], axis=1)\n",
    "dataset=dataset.drop(dataset.columns[[5]], axis=1)"
   ]
  },
  {
   "cell_type": "code",
   "execution_count": 109,
   "id": "b8559e90",
   "metadata": {},
   "outputs": [],
   "source": [
    "from sklearn.impute import SimpleImputer\n",
    "imputer=SimpleImputer(missing_values=np.nan,strategy='mean')\n",
    "\n",
    "imputer.fit(dataset)\n",
    "dataset=imputer.transform(dataset)\n",
    "X=dataset"
   ]
  },
  {
   "cell_type": "code",
   "execution_count": 110,
   "id": "8ba3ab33",
   "metadata": {},
   "outputs": [
    {
     "data": {
      "image/png": "[encoded data removed]",
      "text/plain": [
       "<Figure size 800x550 with 1 Axes>"
      ]
     },
     "metadata": {},
     "output_type": "display_data"
    }
   ],
   "source": [
    "from sklearn.cluster import KMeans\n",
    "wcss = []\n",
    "for i in range(1, 10):\n",
    "    kmeans = KMeans(n_clusters = i, init = 'k-means++', random_state = 42)\n",
    "    kmeans.fit(X)\n",
    "    wcss.append(kmeans.inertia_)\n",
    "plt.plot(range(1, 10), wcss)\n",
    "plt.title('The Elbow Method')\n",
    "plt.xlabel('Number of clusters')\n",
    "plt.ylabel('WCSS')\n",
    "plt.show()"
   ]
  },
  {
   "cell_type": "code",
   "execution_count": 111,
   "id": "e820bb9c",
   "metadata": {},
   "outputs": [],
   "source": [
    "import numpy as np\n",
    "import math\n",
    "import pandas as pd\n",
    "from mpl_toolkits import mplot3d\n",
    "%matplotlib inline\n",
    "import matplotlib.pyplot as plt\n",
    "import seaborn as sns\n",
    "from sklearn import linear_model\n",
    "from sklearn.model_selection import train_test_split\n",
    "from sklearn.metrics import r2_score\n",
    "from sklearn.cluster import KMeans , kmeans_plusplus , MeanShift , DBSCAN , Birch , AffinityPropagation , OPTICS , AgglomerativeClustering\n",
    "from sklearn.mixture import GaussianMixture\n",
    "from sklearn.decomposition import PCA\n",
    "from yellowbrick.cluster import KElbowVisualizer\n",
    "import plotly.express as px\n",
    "import plotly.graph_objects as go"
   ]
  },
  {
   "cell_type": "code",
   "execution_count": 112,
   "id": "a440139c",
   "metadata": {},
   "outputs": [
    {
     "data": {
      "image/png": "[encoded data removed]",
      "text/plain": [
       "<Figure size 800x550 with 1 Axes>"
      ]
     },
     "metadata": {},
     "output_type": "display_data"
    },
    {
     "data": {
      "text/plain": [
       "<AxesSubplot:title={'center':'Distortion Score Elbow for KMeans Clustering'}, xlabel='k', ylabel='distortion score'>"
      ]
     },
     "execution_count": 112,
     "metadata": {},
     "output_type": "execute_result"
    }
   ],
   "source": [
    "X=np.array(X)\n",
    "model=KMeans()\n",
    "visualizer=KElbowVisualizer(model,k=(1,10),timings=False)\n",
    "visualizer.fit(X)\n",
    "visualizer.show()\n"
   ]
  },
  {
   "cell_type": "code",
   "execution_count": 113,
   "id": "5e03bfd1",
   "metadata": {},
   "outputs": [
    {
     "data": {
      "text/plain": [
       "(10558, 5)"
      ]
     },
     "execution_count": 113,
     "metadata": {},
     "output_type": "execute_result"
    }
   ],
   "source": [
    "X.shape"
   ]
  },
  {
   "cell_type": "code",
   "execution_count": 114,
   "id": "75a235f4",
   "metadata": {},
   "outputs": [],
   "source": [
    "kmeans_initial = KMeans(n_clusters=3, random_state=42)\n",
    "initial_clusters = kmeans_initial.fit_predict(X)\n",
    "initial_centroids = kmeans_initial.cluster_centers_\n"
   ]
  },
  {
   "cell_type": "code",
   "execution_count": 115,
   "id": "a9bbf1bd",
   "metadata": {},
   "outputs": [],
   "source": [
    "df2=pd.read_csv('person-1 data.csv')\n",
    "df2=df2[1044:2483]"
   ]
  },
  {
   "cell_type": "code",
   "execution_count": 142,
   "id": "853544ce",
   "metadata": {},
   "outputs": [
    {
     "data": {
      "text/plain": [
       "(1439, 5)"
      ]
     },
     "execution_count": 142,
     "metadata": {},
     "output_type": "execute_result"
    }
   ],
   "source": [
    "df2.shape"
   ]
  },
  {
   "cell_type": "code",
   "execution_count": 116,
   "id": "d9044b3c",
   "metadata": {},
   "outputs": [],
   "source": [
    "df2 = df2.drop(df2.columns[[0, 1]], axis=1)\n"
   ]
  },
  {
   "cell_type": "code",
   "execution_count": 117,
   "id": "dd90db96",
   "metadata": {},
   "outputs": [],
   "source": [
    "from sklearn.impute import SimpleImputer\n",
    "imputer=SimpleImputer(missing_values=np.nan,strategy='mean')\n",
    "\n",
    "imputer.fit(df2)\n",
    "df2=imputer.transform(df2)\n"
   ]
  },
  {
   "cell_type": "code",
   "execution_count": 118,
   "id": "ed16f5e2",
   "metadata": {},
   "outputs": [
    {
     "name": "stderr",
     "output_type": "stream",
     "text": [
      "Explicit initial center position passed: performing only one init in KMeans instead of n_init=10.\n"
     ]
    }
   ],
   "source": [
    "kmeans_new = KMeans(n_clusters=3, random_state=42, init=initial_centroids)\n",
    "new_clusters = kmeans_new.fit_predict(df2)"
   ]
  },
  {
   "cell_type": "code",
   "execution_count": 119,
   "id": "c56bc19f",
   "metadata": {},
   "outputs": [
    {
     "name": "stdout",
     "output_type": "stream",
     "text": [
      "[1 1 1 ... 1 1 1]\n"
     ]
    }
   ],
   "source": [
    "print(new_clusters)"
   ]
  },
  {
   "cell_type": "code",
   "execution_count": 120,
   "id": "1b72d4e1",
   "metadata": {},
   "outputs": [],
   "source": [
    "count0=0\n",
    "count1=0\n",
    "count2=0\n",
    "\n",
    "for i  in range(0,len(new_clusters)):\n",
    "    if(new_clusters[i]==0):\n",
    "        count0+=1\n",
    "    elif(new_clusters[i]==1):   \n",
    "        count1+=1\n",
    "    elif(new_clusters[i]==2):    \n",
    "        count2+=1\n",
    "        "
   ]
  },
  {
   "cell_type": "code",
   "execution_count": 121,
   "id": "fe2fd36e",
   "metadata": {},
   "outputs": [
    {
     "name": "stdout",
     "output_type": "stream",
     "text": [
      "177 743 519\n"
     ]
    }
   ],
   "source": [
    "print(count0,count1,count2)\n",
    "\n"
   ]
  },
  {
   "cell_type": "code",
   "execution_count": 122,
   "id": "e5c14447",
   "metadata": {},
   "outputs": [
    {
     "name": "stdout",
     "output_type": "stream",
     "text": [
      "104108.4695 287059.991 101988.89499999999\n"
     ]
    }
   ],
   "source": [
    "print((count0*494.848)+(count1*13.477)+(count2*12.5375),(count0*139.552)+(count1*156.859)+(count2*280.95),(count0*49.895)+(count1*24.50)+(count2*144.42))"
   ]
  },
  {
   "cell_type": "code",
   "execution_count": 123,
   "id": "997169f0",
   "metadata": {},
   "outputs": [
    {
     "name": "stdout",
     "output_type": "stream",
     "text": [
      "3531.8\n"
     ]
    }
   ],
   "source": [
    "print((count0*5.2)+(1*count1)+(count2*3.6))"
   ]
  },
  {
   "cell_type": "code",
   "execution_count": 124,
   "id": "6cf91ed7",
   "metadata": {},
   "outputs": [
    {
     "data": {
      "text/plain": [
       "(1439, 7)"
      ]
     },
     "execution_count": 124,
     "metadata": {},
     "output_type": "execute_result"
    }
   ],
   "source": [
    "df3=pd.read_csv('person-3.csv')\n",
    "df3=df3[472:1911]\n",
    "df3.shape"
   ]
  },
  {
   "cell_type": "code",
   "execution_count": 125,
   "id": "996c98f3",
   "metadata": {},
   "outputs": [],
   "source": [
    "df3=df3.drop(df3.columns[[0,1]], axis=1)"
   ]
  },
  {
   "cell_type": "code",
   "execution_count": 126,
   "id": "61a2fd2e",
   "metadata": {},
   "outputs": [
    {
     "data": {
      "text/plain": [
       "(1439, 5)"
      ]
     },
     "execution_count": 126,
     "metadata": {},
     "output_type": "execute_result"
    }
   ],
   "source": [
    "df3.shape"
   ]
  },
  {
   "cell_type": "code",
   "execution_count": 127,
   "id": "f5b1460c",
   "metadata": {},
   "outputs": [],
   "source": [
    "from sklearn.impute import SimpleImputer\n",
    "imputer=SimpleImputer(missing_values=np.nan,strategy='mean')\n",
    "\n",
    "imputer.fit(df3)\n",
    "df3=imputer.transform(df3)"
   ]
  },
  {
   "cell_type": "code",
   "execution_count": 128,
   "id": "95b9da33",
   "metadata": {},
   "outputs": [
    {
     "name": "stderr",
     "output_type": "stream",
     "text": [
      "Explicit initial center position passed: performing only one init in KMeans instead of n_init=10.\n"
     ]
    }
   ],
   "source": [
    "#kmeans_new = KMeans(n_clusters=3, random_state=42, init=initial_centroids)\n",
    "new_clusters1 = kmeans_new.fit_predict(df3)"
   ]
  },
  {
   "cell_type": "code",
   "execution_count": 129,
   "id": "dee28ec0",
   "metadata": {},
   "outputs": [],
   "source": [
    "count0=0\n",
    "count1=0\n",
    "count2=0\n",
    "\n",
    "for i  in range(0,len(new_clusters1)):\n",
    "    if(new_clusters1[i]==0):\n",
    "        count0+=1\n",
    "    elif(new_clusters1[i]==1):   \n",
    "        count1+=1\n",
    "    elif(new_clusters1[i]==2):    \n",
    "        count2+=1"
   ]
  },
  {
   "cell_type": "code",
   "execution_count": 130,
   "id": "69ae1837",
   "metadata": {},
   "outputs": [
    {
     "name": "stdout",
     "output_type": "stream",
     "text": [
      "40013.438 235399.544 46420.765\n"
     ]
    }
   ],
   "source": [
    "print((count0*494.848)+(count1*13.477)+(count2*12.5375),(count0*139.552)+(count1*156.859)+(count2*280.95),(count0*49.895)+(count1*24.50)+(count2*144.42))"
   ]
  },
  {
   "cell_type": "code",
   "execution_count": 131,
   "id": "7bd8b85c",
   "metadata": {},
   "outputs": [
    {
     "name": "stdout",
     "output_type": "stream",
     "text": [
      "43 1312 84\n"
     ]
    }
   ],
   "source": [
    "print(count0,count1,count2)"
   ]
  },
  {
   "cell_type": "code",
   "execution_count": 132,
   "id": "77dbbc72",
   "metadata": {},
   "outputs": [
    {
     "name": "stdout",
     "output_type": "stream",
     "text": [
      "1838.0\n"
     ]
    }
   ],
   "source": [
    "print((count0*5.2)+(1*count1)+(count2*3.6))"
   ]
  },
  {
   "cell_type": "code",
   "execution_count": 143,
   "id": "4813217f",
   "metadata": {},
   "outputs": [],
   "source": [
    "df4=pd.read_csv('person 2.csv')\n",
    "df4=df4[ 2004:3416]"
   ]
  },
  {
   "cell_type": "code",
   "execution_count": 144,
   "id": "19ac62f0",
   "metadata": {},
   "outputs": [],
   "source": [
    "df4=df4.drop(df4.columns[[0,1,6,7,8,9,11]],axis=1)"
   ]
  },
  {
   "cell_type": "code",
   "execution_count": 145,
   "id": "726f22df",
   "metadata": {},
   "outputs": [],
   "source": [
    "from sklearn.impute import SimpleImputer\n",
    "imputer=SimpleImputer(missing_values=np.nan,strategy='mean')\n",
    "\n",
    "imputer.fit(df4)\n",
    "df4=imputer.transform(df4)"
   ]
  },
  {
   "cell_type": "code",
   "execution_count": 146,
   "id": "d44e927c",
   "metadata": {},
   "outputs": [
    {
     "data": {
      "text/plain": [
       "(1412, 5)"
      ]
     },
     "execution_count": 146,
     "metadata": {},
     "output_type": "execute_result"
    }
   ],
   "source": [
    "df4.shape"
   ]
  },
  {
   "cell_type": "code",
   "execution_count": 147,
   "id": "b0bce355",
   "metadata": {},
   "outputs": [
    {
     "name": "stderr",
     "output_type": "stream",
     "text": [
      "Explicit initial center position passed: performing only one init in KMeans instead of n_init=10.\n"
     ]
    }
   ],
   "source": [
    "new_clusters2 = kmeans_new.fit_predict(df4)"
   ]
  },
  {
   "cell_type": "code",
   "execution_count": 148,
   "id": "cb2a0b26",
   "metadata": {},
   "outputs": [],
   "source": [
    "count0=0\n",
    "count1=0\n",
    "count2=0\n",
    "\n",
    "for i  in range(0,len(new_clusters2)):\n",
    "    if(new_clusters2[i]==0):\n",
    "        count0+=1\n",
    "    elif(new_clusters2[i]==1):   \n",
    "        count1+=1\n",
    "    elif(new_clusters2[i]==2):    \n",
    "        count2+=1"
   ]
  },
  {
   "cell_type": "code",
   "execution_count": 149,
   "id": "d34ddc9a",
   "metadata": {},
   "outputs": [
    {
     "name": "stdout",
     "output_type": "stream",
     "text": [
      "22 1324 66\n"
     ]
    }
   ],
   "source": [
    "print(count0,count1,count2)"
   ]
  },
  {
   "cell_type": "code",
   "execution_count": 150,
   "id": "a7b87bd2",
   "metadata": {},
   "outputs": [
    {
     "name": "stdout",
     "output_type": "stream",
     "text": [
      "29557.678999999996 229294.16000000003 43067.41\n"
     ]
    }
   ],
   "source": [
    "print((count0*494.848)+(count1*13.477)+(count2*12.5375),(count0*139.552)+(count1*156.859)+(count2*280.95),(count0*49.895)+(count1*24.50)+(count2*144.42))"
   ]
  },
  {
   "cell_type": "code",
   "execution_count": 151,
   "id": "0e128967",
   "metadata": {},
   "outputs": [
    {
     "name": "stdout",
     "output_type": "stream",
     "text": [
      "1676.0\n"
     ]
    }
   ],
   "source": [
    "print((count0*5.2)+(1*count1)+(count2*3.6))"
   ]
  },
  {
   "cell_type": "code",
   "execution_count": null,
   "id": "741c343c",
   "metadata": {},
   "outputs": [],
   "source": []
  }
 ],
 "metadata": {
  "kernelspec": {
   "display_name": "Python 3 (ipykernel)",
   "language": "python",
   "name": "python3"
  },
  "language_info": {
   "codemirror_mode": {
    "name": "ipython",
    "version": 3
   },
   "file_extension": ".py",
   "mimetype": "text/x-python",
   "name": "python",
   "nbconvert_exporter": "python",
   "pygments_lexer": "ipython3",
   "version": "3.9.13"
  }
 },
 "nbformat": 4,
 "nbformat_minor": 5
}
